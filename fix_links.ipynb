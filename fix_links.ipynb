{
 "cells": [
  {
   "cell_type": "code",
   "execution_count": 3,
   "metadata": {},
   "outputs": [
    {
     "name": "stdout",
     "output_type": "stream",
     "text": [
      "---\n",
      "layout: home\n",
      "title: Programming Notes\n",
      "---\n",
      "\n",
      "## About\n",
      "\n",
      "This started with the intention to be a collection point for some useful but not necessarily working, snippets of code.  It has morphed into more of a place for links, notes, advise and procedures I use or have found useful.  This \"code depot\" started as a SharePoint Wiki at a place of employment as a way get peers to share information and knowledge and more importantly for me to document my knowledge, information and lessons learned.  While it didn't work as well as I hoped it has found other uses and was more successful then I was told it would be.  \n",
      "\n",
      "Below are links to the wiki pages for each of the languages I'm familiar with if only in passing.  In the past I've worked with Java, C and C++.  Currently, I'm working with Python and it is by far the language I've had the most fun with.\n",
      "\n",
      "--------\n",
      "\n",
      "## [Software Engineering](./software_engineering/start.md)\n",
      "\n",
      "  * [[software_engineering:sw_dev_procedures|Software Development Procedures]]\n",
      "  * [[software_engineering:source_code_mgmnt|Source Code Management]]\n",
      "\n",
      "### [[lang:start|Languages]]\n",
      "  * [[lang:python:start|Python]]\n",
      "  * [[lang:web:start|Web]] \n",
      "  * [[lang:sql:start|SQL]] \n",
      "  * [[lang:c:start|C/C++]] \n",
      "  * [[lang:java:start|JVM and associated languages]]\n",
      "\n",
      "### [[tools:start|Tools]]\n",
      "  * [[tools:Vi/Vim]] -- A screen oriented text-editor, one of my favorite tools\n",
      "  * [[tools:Git]] -- My goto SCM tool.\n",
      "  * [[tools:PyCharm]] -- <del>Community Edition is rapidly becoming my IDE of choice</del>I bought the Professional Version and this is now my IDE of choice.\n",
      "  * [[tools:Eclipse]] -- Integrated Development Environment (IDE) \n",
      "  * [[tools:Windows Pseudo Backup]] -- A Python Script combined with Task Scheduler to backup your critical files \n",
      "  * [[http://notepad-plus-plus.org/|Notepad++]] -- A Windows Text Editor with support for color syntax and large files, not huge files.  I've had it support up to 1GB files but anything beyond it didn't work well and I resorted to gVim.  Great replacement for notepad. \n",
      "  * [[http://hilite.me/|hilite.me]] -- A web site that will color highlight your source code for publication.  It is how I color code various code for other sites for publication.  Simple and easy to use it works for all of the languages used in the organization this wiki was originally developed while I worked for.  I've found for dokuwiki, the engine for this wiki, it is unnecessary.\n",
      "\n",
      "### Resources\n",
      "  * [[http://opengameort.org|Open Game Art]]\n",
      "  * [[http://openfontlibrary.org|Open Fonts]] -- The Open Font Library\n",
      "  * [[http://openclipart.org|Open Clip Art]]\n",
      "\n",
      "### [[os:start|Operating Systems]]\n",
      "  * [[http://www.ubuntu.com/|Ubuntu]] -- The OS I now use at work and home.\n",
      "  * [[lang:unix:start|Linux and other Un!x derivatives]]\n",
      "  * [[http://www.vmware.com/support/pubs/player_pubs.html|VMWare Player]] -- The Virtualization software I use on my laptop (my main computer) to run Linux and Unix.  Currently, I have VMs for Ubuntu and CentOS installed.  I also have installed in used several of the [[http://www.turnkeylinux.org|Turnkey Virtual Appliances]] successfully.\n",
      "  * [[https://www.virtualbox.org/wiki/Downloads|VirtualBox]] -- An open source virtualization software currently owned by Oracle.  Used by Vagrant.\n",
      "\n",
      "### [[projects:start|Projects]]\n",
      "  * [[https://github.com/lowcloudnine/ansible_pydeskdev|PyDeskDev]] -- An attempt at using Ansible to install a complete Python programming development on Ubuntu.\n",
      "  * [[http://github.com/lowcloudnine/white_rabbit|White Rabbit]] -- The start of an application for generating python skeleton projects and other templates.\n",
      "  * [[projects:learn|Learn X the Hard Way]] -- My work on the various different \"Learn X the Hard Way\" started by Zed Shaw.  Currently, I have Python and C in progress and would like to get to SQL and Regex next.\n",
      "  * [[http://lowcloudnine.com/|My Site]] -- This is a work in progress, only the scaffolding is up.\n",
      "  * [[https://github.com/lowcloudnine/GPCP-to-CSV/tree/version-2|GPCP to CSV]] -- This simple program converts the Global Precipitation Climatology Projects model files into CSV files of various formats.\n",
      "\n",
      "###  [[software_engineering:advice|Advice]] \n",
      "  * [[software_engineering:employment|Finding Employment]]\n",
      "\n"
     ]
    }
   ],
   "source": [
    "original_text = \"\"\n",
    "fixed_text = \"\"\n",
    "\n",
    "with open(\"./index.md\", \"r\") as original_file:\n",
    "    for line in original_file:\n",
    "        if line.startswith(\"**\"):\n",
    "            line = line.strip()\n",
    "            line = line[2:-2]\n",
    "            line = \"### \" + line\n",
    "        original_text += line\n",
    "\n",
    "print(original_text)"
   ]
  },
  {
   "cell_type": "code",
   "execution_count": null,
   "metadata": {},
   "outputs": [],
   "source": []
  }
 ],
 "metadata": {
  "kernelspec": {
   "display_name": "Python 3",
   "language": "python",
   "name": "python3"
  },
  "language_info": {
   "codemirror_mode": {
    "name": "ipython",
    "version": 3
   },
   "file_extension": ".py",
   "mimetype": "text/x-python",
   "name": "python",
   "nbconvert_exporter": "python",
   "pygments_lexer": "ipython3",
   "version": "3.6.6"
  }
 },
 "nbformat": 4,
 "nbformat_minor": 2
}
